{
 "cells": [
  {
   "cell_type": "markdown",
   "metadata": {},
   "source": [
    "## SUMA DE DOS ENTEROS"
   ]
  },
  {
   "cell_type": "code",
   "execution_count": 2,
   "metadata": {},
   "outputs": [],
   "source": [
    "import ctypes"
   ]
  },
  {
   "cell_type": "code",
   "execution_count": 3,
   "metadata": {},
   "outputs": [
    {
     "name": "stdout",
     "output_type": "stream",
     "text": [
      "Writing suma_int.c\n"
     ]
    }
   ],
   "source": [
    "%%file suma_int.c\n",
    "\n",
    "int suma_int(int a, int b){\n",
    "    return (a+b);\n",
    "}"
   ]
  },
  {
   "cell_type": "code",
   "execution_count": 4,
   "metadata": {},
   "outputs": [],
   "source": [
    "\n",
    "#creamos el object file\n",
    "! gcc -c suma_int.c "
   ]
  },
  {
   "cell_type": "code",
   "execution_count": 5,
   "metadata": {},
   "outputs": [],
   "source": [
    "#Creamos sheard library\n",
    "! gcc -shared suma_int.o -o suma_int.so\n"
   ]
  },
  {
   "cell_type": "code",
   "execution_count": 6,
   "metadata": {},
   "outputs": [],
   "source": [
    "def ctypes_suma_int():\n",
    "    \n",
    "    #ruta de shared library \n",
    "    lib= ctypes.CDLL('./suma_int.so')\n",
    "    \n",
    "    #Ingresamos el tipo de argumentos\n",
    "    lib.suma_int.argtypes=(ctypes.c_int, ctypes.c_int)\n",
    "    \n",
    "    #Ingresamos el tipo de salida\n",
    "    lib.suma_int.restype=ctypes.c_int\n",
    "    \n",
    "    #Devuelve la funcion configurada\n",
    "    return lib.suma_int\n"
   ]
  },
  {
   "cell_type": "code",
   "execution_count": 7,
   "metadata": {},
   "outputs": [],
   "source": [
    "# instancia de la funcion\n",
    "c_suma_int = ctypes_suma_int()"
   ]
  },
  {
   "cell_type": "code",
   "execution_count": 8,
   "metadata": {},
   "outputs": [
    {
     "data": {
      "text/plain": [
       "12"
      ]
     },
     "execution_count": 8,
     "metadata": {},
     "output_type": "execute_result"
    }
   ],
   "source": [
    "c_suma_int(2,10)"
   ]
  },
  {
   "cell_type": "code",
   "execution_count": 9,
   "metadata": {},
   "outputs": [
    {
     "data": {
      "text/plain": [
       "70"
      ]
     },
     "execution_count": 9,
     "metadata": {},
     "output_type": "execute_result"
    }
   ],
   "source": [
    "c_suma_int(20,50)"
   ]
  },
  {
   "cell_type": "code",
   "execution_count": null,
   "metadata": {},
   "outputs": [],
   "source": []
  },
  {
   "cell_type": "markdown",
   "metadata": {},
   "source": [
    "## EXPONENCIAL"
   ]
  },
  {
   "cell_type": "code",
   "execution_count": 12,
   "metadata": {},
   "outputs": [
    {
     "name": "stdout",
     "output_type": "stream",
     "text": [
      "Overwriting num_exp.c\n"
     ]
    }
   ],
   "source": [
    "%%file num_exp.c\n",
    "#include <math.h>\n",
    "double num_exp(double a, double b){\n",
    "    return pow(a,b);}"
   ]
  },
  {
   "cell_type": "code",
   "execution_count": 13,
   "metadata": {},
   "outputs": [],
   "source": [
    "! gcc -c num_exp.c -lm"
   ]
  },
  {
   "cell_type": "code",
   "execution_count": 15,
   "metadata": {},
   "outputs": [],
   "source": [
    "! gcc -shared num_exp.o -o num_exp.so"
   ]
  },
  {
   "cell_type": "code",
   "execution_count": 17,
   "metadata": {},
   "outputs": [],
   "source": [
    "def ctypes_num_exp():\n",
    "    \n",
    "    lib= ctypes.CDLL('./num_exp.so')\n",
    "    \n",
    "    lib.num_exp.argtypes=(ctypes.c_double, ctypes.c_double)\n",
    "    \n",
    "    lib.num_exp.restype=ctypes.c_double\n",
    "    \n",
    "    return lib.num_exp\n"
   ]
  },
  {
   "cell_type": "code",
   "execution_count": 18,
   "metadata": {},
   "outputs": [],
   "source": [
    "c_num_exp= ctypes_num_exp()"
   ]
  },
  {
   "cell_type": "code",
   "execution_count": 19,
   "metadata": {},
   "outputs": [
    {
     "data": {
      "text/plain": [
       "8.0"
      ]
     },
     "execution_count": 19,
     "metadata": {},
     "output_type": "execute_result"
    }
   ],
   "source": [
    "c_num_exp(2,3)"
   ]
  },
  {
   "cell_type": "markdown",
   "metadata": {},
   "source": [
    "Prueba de precisión de num_exp"
   ]
  },
  {
   "cell_type": "code",
   "execution_count": 20,
   "metadata": {},
   "outputs": [
    {
     "data": {
      "text/plain": [
       "0.0"
      ]
     },
     "execution_count": 20,
     "metadata": {},
     "output_type": "execute_result"
    }
   ],
   "source": [
    "#numero de referencia\n",
    "num_ref=2**3\n",
    "num= c_num_exp(2,3)\n",
    "err_rel= abs(num_ref - num)/abs(num_ref)\n",
    "err_rel"
   ]
  },
  {
   "cell_type": "markdown",
   "metadata": {},
   "source": [
    "## BURBURJA"
   ]
  },
  {
   "cell_type": "code",
   "execution_count": 21,
   "metadata": {},
   "outputs": [
    {
     "name": "stdout",
     "output_type": "stream",
     "text": [
      "Writing ord_burbuja_int.c\n"
     ]
    }
   ],
   "source": [
    "%%file ord_burbuja_int.c\n",
    "void ord_burbuja_int(int* arr, int size){\n",
    "    int i, j, temp;\n",
    "    for (i = 0; i < size-1; i++) {\n",
    "        for (j = 0; j < size-1-i; j++) {\n",
    "            if (arr[j] > arr[j+1]) {\n",
    "                temp = arr[j];\n",
    "                arr[j] = arr[j+1];\n",
    "                arr[j+1] = temp;\n",
    "            }\n",
    "        }\n",
    "    }\n",
    "}"
   ]
  },
  {
   "cell_type": "code",
   "execution_count": 22,
   "metadata": {},
   "outputs": [],
   "source": [
    "! gcc -c ord_burbuja_int.c"
   ]
  },
  {
   "cell_type": "code",
   "execution_count": 23,
   "metadata": {},
   "outputs": [],
   "source": [
    "! gcc -shared ord_burbuja_int.o -o ord_burbuja_int.so"
   ]
  },
  {
   "cell_type": "code",
   "execution_count": 24,
   "metadata": {},
   "outputs": [],
   "source": [
    "import numpy as np\n",
    "def ctypes_ord_burbuja_int():\n",
    "    \n",
    "    lib = ctypes.CDLL('./ord_burbuja_int.so')\n",
    "    \n",
    "    lib.ord_burbuja_int.argtypes=[np.ctypeslib.ndpointer(dtype=np.int32), ctypes.c_int]\n",
    "    \n",
    "    return lib.ord_burbuja_int"
   ]
  },
  {
   "cell_type": "code",
   "execution_count": 25,
   "metadata": {},
   "outputs": [],
   "source": [
    "c_ord_burbuja_int = ctypes_ord_burbuja_int()"
   ]
  },
  {
   "cell_type": "markdown",
   "metadata": {},
   "source": [
    "## FACTORIAL"
   ]
  },
  {
   "cell_type": "code",
   "execution_count": null,
   "metadata": {},
   "outputs": [],
   "source": [
    "! rm *.c *.o *.so"
   ]
  }
 ],
 "metadata": {
  "kernelspec": {
   "display_name": "Python 3",
   "language": "python",
   "name": "python3"
  },
  "language_info": {
   "codemirror_mode": {
    "name": "ipython",
    "version": 3
   },
   "file_extension": ".py",
   "mimetype": "text/x-python",
   "name": "python",
   "nbconvert_exporter": "python",
   "pygments_lexer": "ipython3",
   "version": "3.10.6"
  },
  "orig_nbformat": 4
 },
 "nbformat": 4,
 "nbformat_minor": 2
}
